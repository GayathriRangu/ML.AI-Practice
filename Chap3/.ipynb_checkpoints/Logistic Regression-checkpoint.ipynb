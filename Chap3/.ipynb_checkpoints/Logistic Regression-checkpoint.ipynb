{
 "cells": [
  {
   "cell_type": "code",
   "execution_count": 2,
   "id": "ae0d9107",
   "metadata": {},
   "outputs": [],
   "source": [
    "import numpy as np\n",
    "import matplotlib as plt\n",
    "import pandas as pd\n",
    "s='https://archive.ics.uci.edu/ml/machine-learning-databases/iris/iris.data'\n",
    "print('from url:',s)\n",
    "df=pd.read_csv(s,header=None,encoding='utf-8')\n",
    "df.tail() #last five lines of iris dataset\n",
    "class LogisticRegressionGD:\n",
    "    \"\"\"Logistic regression classifier using gradient descent \"\"\"\n",
    "    def __init__(self,eta=0.01,n_iter=50,random_state=1):\n",
    "        self.eta=eta\n",
    "        self.n_iter=n_iter\n",
    "        self.random_state=random_state\n",
    "        \n",
    "    def fit(self,X,y):\n",
    "        \"\"\"Fit the training data\"\"\"\n",
    "        rgen=np.randm.RandomState(self.random_state)\n",
    "        self.w_=rgen.normal(loc=0.0,scale=0.01,size=X.shape[1])\n",
    "        self.b_=np.float_(0.)\n",
    "        self.losses_=[]\n",
    "        \n",
    "        for i in range(self.n_iter):\n",
    "            net_input=self.net_input(X)\n",
    "            output=self.activation(net_input)\n",
    "            errors=(y-output)\n",
    "            self.w_+=self.eta*2*X.T.dot(eroors)/X.shape(0)\n",
    "            self.b_+=self.eta*2*errors.mean()\n",
    "            loss=(-y.dot(np.log(output))-((1-y).dot(np.log(1-output)))/X.shape[0])\n",
    "            self.losses_.append(loss)\n",
    "        return self\n",
    "    \n",
    "    def net_input(self,X):\n",
    "        return np.dot(X,self.w_)+self.b_\n",
    "\n",
    "    def activation(self,z): #computing logistic sigmoid activation\n",
    "        return 1./1.+np.exp(-np.clip(z,-250,250))\n",
    "\n",
    "    def predict(self,X):\n",
    "        return np.where(self.activation(self.net_input(X))>=0.5,1,0)"
   ]
  },
  {
   "cell_type": "code",
   "execution_count": null,
   "id": "23c7aab0",
   "metadata": {},
   "outputs": [],
   "source": [
    "#visualizing the decision boundaries for 2-d dataset\n",
    "from matplotlib.colors import ListedColormap\n",
    "def plot_decision_regions(X,y,classifier,resolution=0.02):\n",
    "    markers=('o','s','^','v','<')\n",
    "    colors=('red','blue','lightgreen','gray','cyan')\n",
    "    cmap=ListedColormap(colors[:len(np.unique(y))])\n",
    "    #setting up marker generator and color map\n",
    "\n",
    "    #plotting the decision surface\n",
    "    x1_min,x1_max=X[:,0].min()-1,X[:,0].max()+1\n",
    "    x2_min,x2_max=X[:,1].min()-1,X[:,1].max()+1\n",
    "    xx1,xx2=np.meshgrid(np.arange(x1_min,x1_max,resolution),np.arange(x2_min,x2_max,resolution))\n",
    "    lab=classifier.predict(np.array([xx1.ravel(),xx2.ravel()]).T)\n",
    "    lab=lab.reshape(xx1.shape)\n",
    "    plt.contourf(xx1,xx2,lab,alpha=0.3,cmap=cmap)\n",
    "    plt.xlim(xx1.min(),xx1.max())\n",
    "    plt.ylim(xx2.min(),xx2.max())\n",
    "    #plot class examples\n",
    "    for idx,cl in enumerate(np.unique(y)):\n",
    "        plt.scatter(x=X[y==cl,0],y=X[y==cl,1], alpha=0.8, c=colors[idx],marker=markers[idx],label=f'Class {cl}',edgecolor='black')\n",
    "        "
   ]
  },
  {
   "cell_type": "code",
   "execution_count": 3,
   "id": "967233d4",
   "metadata": {},
   "outputs": [
    {
     "ename": "NameError",
     "evalue": "name 'X_train_std' is not defined",
     "output_type": "error",
     "traceback": [
      "\u001b[1;31m---------------------------------------------------------------------------\u001b[0m",
      "\u001b[1;31mNameError\u001b[0m                                 Traceback (most recent call last)",
      "Cell \u001b[1;32mIn[3], line 1\u001b[0m\n\u001b[1;32m----> 1\u001b[0m X_train_01_subset\u001b[38;5;241m=\u001b[39m\u001b[43mX_train_std\u001b[49m[(y_train\u001b[38;5;241m==\u001b[39m\u001b[38;5;241m0\u001b[39m)\u001b[38;5;241m|\u001b[39m(y_train\u001b[38;5;241m==\u001b[39m\u001b[38;5;241m1\u001b[39m)]\n\u001b[0;32m      2\u001b[0m y_train_01_subset\u001b[38;5;241m=\u001b[39my_train[(y_train\u001b[38;5;241m==\u001b[39m\u001b[38;5;241m0\u001b[39m)\u001b[38;5;241m|\u001b[39m(y_train\u001b[38;5;241m==\u001b[39m\u001b[38;5;241m1\u001b[39m)]\n\u001b[0;32m      3\u001b[0m lrgd\u001b[38;5;241m=\u001b[39mLogisticRegressionGD(eta\u001b[38;5;241m=\u001b[39m\u001b[38;5;241m0.3\u001b[39m,n_iter\u001b[38;5;241m=\u001b[39m\u001b[38;5;241m1000\u001b[39m,random_state\u001b[38;5;241m=\u001b[39m\u001b[38;5;241m1\u001b[39m)\n",
      "\u001b[1;31mNameError\u001b[0m: name 'X_train_std' is not defined"
     ]
    }
   ],
   "source": [
    "X_train_01_subset=X_train_std[(y_train==0)|(y_train==1)]\n",
    "y_train_01_subset=y_train[(y_train==0)|(y_train==1)]\n",
    "lrgd=LogisticRegressionGD(eta=0.3,n_iter=1000,random_state=1)\n",
    "lrgd.fit(X_train_01_subset,y_train_01_subset)\n",
    "plot_decision_regions(X=X_train_01_subset,y=y_train_01_subset,classifier=lrgd)\n",
    "plt.xlabel('Petal length [standardized]')\n",
    "plt.ylabel('Petal width [standardized]')\n",
    "plt.legend(loc='upper left')\n",
    "plt.tight_layout()\n",
    "plt.show()\n"
   ]
  }
 ],
 "metadata": {
  "kernelspec": {
   "display_name": "Python 3 (ipykernel)",
   "language": "python",
   "name": "python3"
  },
  "language_info": {
   "codemirror_mode": {
    "name": "ipython",
    "version": 3
   },
   "file_extension": ".py",
   "mimetype": "text/x-python",
   "name": "python",
   "nbconvert_exporter": "python",
   "pygments_lexer": "ipython3",
   "version": "3.9.6"
  }
 },
 "nbformat": 4,
 "nbformat_minor": 5
}
